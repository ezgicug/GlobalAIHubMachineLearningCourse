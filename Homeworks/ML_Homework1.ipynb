{
 "cells": [
  {
   "cell_type": "markdown",
   "metadata": {},
   "source": [
    "## Homework 1\n",
    "\n",
    "1) How would you define Machine Learning?  \n",
    "2) What are the differences between Supervised and Unsupervised Learning? Specify example 3 algorithms   for each of these.  \n",
    "3) What are the test and validation set, and why would you want to use them?  \n",
    "4) What are the main preprocessing steps? Explain them in detail. Why we need to prepare our data?  \n",
    "5) How you can explore and analyse countionus and discrete variables?  \n",
    "6) Analyse the plot given below. (What is the plot and variable type, check the distribution and make comment about how you can preproccess it.) "
   ]
  },
  {
   "cell_type": "markdown",
   "metadata": {},
   "source": [
    "## Answers\n",
    "\n",
    "1) Machine Learning is the study of computer algorithms that the gives ability to learn automatically through experience or examples.\n",
    "\n",
    "2) Supervised learning is the machine learning task of  inferring a function from the training \"labeled\" dataset.We have input variables and an output variable,and the goal of supervised learning is to use an algorithm to learn the mapping function from the input to the output.However, unsupervised Learning is a machine learning task to describe the structure of the data without using explicitly-provided labels, and we only have input data and no corresponding output variables.\n",
    " - Supervised Learning Algorithms  : Linear regression, Decision Tree, Logistic Regression, Neural Networks.\n",
    " - Unsupervised Learning Algorithms: K-means, Anomaly detection, Hierarchal clustering.\n",
    "\n",
    "3) Test set is the sample of data  used to provide testing a final model fit on the training dataset.Validation set is different from test set. It is used for tuning the parameters of a model during training. Validation set and test set should be used to improve model and evaluate its performance on new data.\n",
    "\n",
    "4) Main preprocessing steps :\n",
    "\n",
    "- **Data cleaning** :  To ‘clean’ data by removing outliers, replacing missing values, smoothing noisy data, and correcting inconsistent data.\n",
    "- **Data integration** : The process of bringing together data from different sources into a single, and providing a unified view of them.\n",
    "- **Data reduction** :    to have a condensed representation of the data set which is smaller in volume, while maintaining the integrity of original.\n",
    "- **Data transformation** : transforming the data into form proper for Data Modeling\n",
    "\n",
    "Preprocessing improves the quality of data,and high quality data provide better models and predictions.Therefore, preprocessing is a a significant step, and needed.\n",
    "\n",
    "5) We can use histogram , scatter plot to analyse countionus variables,and  we can use bar chart to analyse discrete variables.\n",
    "\n",
    "6) The plot given is histogram plot. Variable type is continuous variable. We can preprocess of the data applying the scaling and outlier detection.\n",
    "\n",
    "\n",
    "\n",
    "\n",
    "\n"
   ]
  }
 ],
 "metadata": {
  "kernelspec": {
   "display_name": "Python 3",
   "language": "python",
   "name": "python3"
  },
  "language_info": {
   "codemirror_mode": {
    "name": "ipython",
    "version": 3
   },
   "file_extension": ".py",
   "mimetype": "text/x-python",
   "name": "python",
   "nbconvert_exporter": "python",
   "pygments_lexer": "ipython3",
   "version": "3.8.5"
  }
 },
 "nbformat": 4,
 "nbformat_minor": 4
}
